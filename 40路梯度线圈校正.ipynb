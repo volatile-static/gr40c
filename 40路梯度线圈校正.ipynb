{
 "cells": [
  {
   "cell_type": "markdown",
   "metadata": {},
   "source": [
    "`pip install -U msgpack matplotlib pyvisa`"
   ]
  },
  {
   "cell_type": "code",
   "execution_count": null,
   "metadata": {},
   "outputs": [],
   "source": [
    "from experiment import Experiment\n",
    "from pyvisa import ResourceManager\n",
    "\n",
    "rm = ResourceManager()\n",
    "scope = rm.open_resource(rm.list_resources()[0])"
   ]
  },
  {
   "cell_type": "code",
   "execution_count": 2,
   "metadata": {},
   "outputs": [
    {
     "data": {
      "text/plain": [
       "'Siglent Technologies,SDS6104 H10 Pro,SDS6PBBX4R0002,1.17.1.4.3.3\\n'"
      ]
     },
     "execution_count": 2,
     "metadata": {},
     "output_type": "execute_result"
    }
   ],
   "source": [
    "scope.query('*IDN?')"
   ]
  },
  {
   "cell_type": "code",
   "execution_count": null,
   "metadata": {},
   "outputs": [],
   "source": [
    "scope.close()"
   ]
  },
  {
   "cell_type": "code",
   "execution_count": 12,
   "metadata": {},
   "outputs": [
    {
     "data": {
      "text/plain": [
       "'9.9E+37\\n'"
      ]
     },
     "execution_count": 12,
     "metadata": {},
     "output_type": "execute_result"
    }
   ],
   "source": [
    "# 读取脉冲幅度的测量值\n",
    "scope.write('MEASUrement:IMMed:SOUrce1 CH1')  # 设置测量源为通道 1\n",
    "scope.write('MEASUrement:IMMed:TYPe AMPLitude')  # 设置测量类型为脉冲幅度\n",
    "scope.query('MEASUrement:IMMed:VALUE?')  # 读取脉冲幅度"
   ]
  }
 ],
 "metadata": {
  "kernelspec": {
   "display_name": ".venv",
   "language": "python",
   "name": "python3"
  },
  "language_info": {
   "codemirror_mode": {
    "name": "ipython",
    "version": 3
   },
   "file_extension": ".py",
   "mimetype": "text/x-python",
   "name": "python",
   "nbconvert_exporter": "python",
   "pygments_lexer": "ipython3",
   "version": "3.12.9"
  }
 },
 "nbformat": 4,
 "nbformat_minor": 2
}
