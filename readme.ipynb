{
 "cells": [
  {
   "attachments": {},
   "cell_type": "markdown",
   "metadata": {},
   "source": [
    "`pip install -U msgpack matplotlib pyvisa`"
   ]
  },
  {
   "cell_type": "code",
   "execution_count": 3,
   "metadata": {},
   "outputs": [
    {
     "data": {
      "text/plain": [
       "'TEKTRONIX,MDO3024,C062071,CF:91.1CT FV:v1.30\\n'"
      ]
     },
     "execution_count": 3,
     "metadata": {},
     "output_type": "execute_result"
    }
   ],
   "source": [
    "from typing import Literal\n",
    "from time import sleep\n",
    "import numpy as np, csv\n",
    "from matplotlib import pyplot as plt\n",
    "from experiment import Experiment\n",
    "from pyvisa import ResourceManager\n",
    "\n",
    "def read(typ: Literal['HIGH', 'MEAN', 'LOW']):\n",
    "    # 读取脉冲幅度的测量值\n",
    "    scope.write('MEASUrement:IMMed:SOUrce CH1')  # 设置测量源为通道 1\n",
    "    scope.write('MEASUrement:IMMed:TYPe ' + typ)  # 设置测量类型为脉冲幅度\n",
    "    return float(scope.query('MEASUrement:IMMed:VALUE?'))  # 读取脉冲幅度\n",
    "\n",
    "def write(ch: int, amp: float):\n",
    "    console = Experiment(init_gpa=False)\n",
    "    console.add_flodict({\n",
    "        f'ocra40_v{ch}': (np.array([10, 1000, 2000]), np.array([0, amp, 0])),\n",
    "    })\n",
    "    msg = console.run()\n",
    "    console.__del__()\n",
    "    return msg[1]\n",
    "\n",
    "def sweep(ch: int):\n",
    "    results = []\n",
    "    def expt(amp: float):\n",
    "        write(ch, amp)\n",
    "        sleep(.2)\n",
    "        high = read('HIGH')\n",
    "        low = read('LOW')\n",
    "        results.append([amp, high, low])\n",
    "        if np.abs(high - low) > 1.2:  # 1.5V/30A\n",
    "            return True\n",
    "        return False\n",
    "    \n",
    "    scope.write('TRIGger:A:LEVel 0.08')\n",
    "    for amp in np.linspace(0.02, 0.36, 18):\n",
    "        if expt(amp):\n",
    "            break\n",
    "    scope.write('TRIGger:A:LEVel -0.08')\n",
    "    for amp in np.linspace(-0.02, -0.36, 18):\n",
    "        if expt(amp):\n",
    "            break\n",
    "    try:\n",
    "        with open(f'./data/{ch}.csv', 'w') as f:\n",
    "            writer = csv.writer(f)\n",
    "            writer.writerows(results)\n",
    "    except FileNotFoundError:\n",
    "        print('未保存')\n",
    "    return np.array(results)\n",
    "\n",
    "try:\n",
    "    scope.close()\n",
    "except NameError:\n",
    "    pass\n",
    "rm = ResourceManager()\n",
    "scope = rm.open_resource(rm.list_resources()[0])\n",
    "scope.query('*IDN?')"
   ]
  },
  {
   "cell_type": "code",
   "execution_count": 161,
   "metadata": {},
   "outputs": [
    {
     "data": {
      "text/plain": [
       "[<matplotlib.lines.Line2D at 0x1f59d1335d0>]"
      ]
     },
     "execution_count": 161,
     "metadata": {},
     "output_type": "execute_result"
    },
    {
     "data": {
      "image/png": "[encoded data removed]",
      "text/plain": [
       "<Figure size 640x480 with 1 Axes>"
      ]
     },
     "metadata": {},
     "output_type": "display_data"
    }
   ],
   "source": [
    "rst = np.array(sweep(0))\n",
    "plt.plot(rst[:, 0], rst[:, 1])\n",
    "plt.plot(rst[:, 0], rst[:, 2])"
   ]
  },
  {
   "cell_type": "code",
   "execution_count": null,
   "metadata": {},
   "outputs": [],
   "source": [
    "plt"
   ]
  },
  {
   "cell_type": "code",
   "execution_count": 27,
   "metadata": {},
   "outputs": [
    {
     "data": {
      "text/plain": [
       "22"
      ]
     },
     "execution_count": 27,
     "metadata": {},
     "output_type": "execute_result"
    }
   ],
   "source": [
    "# scope.query('MEASUrement:IMMed:UNIT?')\n",
    "scope.write('TRIGger:A:LEVel -0.3')"
   ]
  },
  {
   "cell_type": "code",
   "execution_count": 31,
   "metadata": {},
   "outputs": [
    {
     "data": {
      "text/plain": [
       "-0.94"
      ]
     },
     "execution_count": 31,
     "metadata": {},
     "output_type": "execute_result"
    }
   ],
   "source": [
    "read('LOW')"
   ]
  },
  {
   "cell_type": "code",
   "execution_count": 3,
   "metadata": {},
   "outputs": [
    {
     "name": "stderr",
     "output_type": "stream",
     "text": [
      "d:\\gr40c\\server_comms.py:86: MarServerWarning: no RX data received\n",
      "  warnings.warn(k, MarServerWarning)\n"
     ]
    }
   ],
   "source": [
    "console = Experiment(init_gpa=True)\n",
    "console.add_flodict({\n",
    "    f'ocra40_v{ch}': (np.array([0, 100]), np.array([0, 0])) for ch in range(40)\n",
    "})\n",
    "console.run()\n",
    "console.__del__()"
   ]
  },
  {
   "cell_type": "code",
   "execution_count": 12,
   "metadata": {},
   "outputs": [
    {
     "data": {
      "text/plain": [
       "{'warnings': ['ocra1 data was lost (overwritten before being sent)',\n",
       "  'no RX data received']}"
      ]
     },
     "execution_count": 12,
     "metadata": {},
     "output_type": "execute_result"
    }
   ],
   "source": [
    "write(7, 0.1)"
   ]
  },
  {
   "cell_type": "code",
   "execution_count": 7,
   "metadata": {},
   "outputs": [
    {
     "data": {
      "text/plain": [
       "-0.0376"
      ]
     },
     "execution_count": 7,
     "metadata": {},
     "output_type": "execute_result"
    }
   ],
   "source": [
    "console = Experiment(init_gpa=False)\n",
    "console.add_flodict({\n",
    "    'ocra40_v4': (np.array([10, 1000, 2000]), np.array([0, -0.3, 0])),\n",
    "})\n",
    "msg = console.run()\n",
    "console.__del__()\n",
    "msg[1]\n",
    "sleep(.1)\n",
    "read('LOW')"
   ]
  },
  {
   "cell_type": "code",
   "execution_count": 36,
   "metadata": {},
   "outputs": [
    {
     "data": {
      "text/plain": [
       "'READY\\n'"
      ]
     },
     "execution_count": 36,
     "metadata": {},
     "output_type": "execute_result"
    }
   ],
   "source": [
    "scope.query('TRIGger:STATe?')"
   ]
  }
 ],
 "metadata": {
  "kernelspec": {
   "display_name": ".venv",
   "language": "python",
   "name": "python3"
  },
  "language_info": {
   "codemirror_mode": {
    "name": "ipython",
    "version": 3
   },
   "file_extension": ".py",
   "mimetype": "text/x-python",
   "name": "python",
   "nbconvert_exporter": "python",
   "pygments_lexer": "ipython3",
   "version": "3.11.4"
  }
 },
 "nbformat": 4,
 "nbformat_minor": 2
}
