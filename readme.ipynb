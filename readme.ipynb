{
 "cells": [
  {
   "cell_type": "markdown",
   "metadata": {},
   "source": [
    "`pip install -U msgpack matplotlib pyvisa`"
   ]
  },
  {
   "cell_type": "code",
   "execution_count": null,
   "metadata": {},
   "outputs": [],
   "source": [
    "from typing import Literal\n",
    "from time import sleep\n",
    "import numpy as np, csv\n",
    "from experiment import Experiment\n",
    "from pyvisa import ResourceManager\n",
    "\n",
    "def read(typ: Literal['HIGH', 'MEAN', 'LOW']):\n",
    "    # 读取脉冲幅度的测量值\n",
    "    scope.write('MEASUrement:IMMed:SOUrce CH1')  # 设置测量源为通道 1\n",
    "    scope.write('MEASUrement:IMMed:TYPe ' + typ)  # 设置测量类型为脉冲幅度\n",
    "    return float(scope.query('MEASUrement:IMMed:VALUE?'))  # 读取脉冲幅度\n",
    "\n",
    "def write(ch: int, amp: float):\n",
    "    console = Experiment(init_gpa=False)\n",
    "    console.add_flodict({\n",
    "        f'ocra40_v{ch}': (np.array([10, 10000, 20000]), np.array([0, amp, 0])),\n",
    "    })\n",
    "    msg = console.run()\n",
    "    console.__del__()\n",
    "    return msg\n",
    "\n",
    "def sweep(ch: int):\n",
    "    results = []\n",
    "    def expt(amp: float):\n",
    "        write(ch, amp)\n",
    "        sleep(1)\n",
    "        high = read('HIGH')\n",
    "        results.append([amp, high])\n",
    "        if np.abs(high) > 26:\n",
    "            results.append([0, read('LOW')])\n",
    "            return True\n",
    "        return False\n",
    "    \n",
    "    for amp in np.linspace(0, 0.3, 31):\n",
    "        if expt(amp):\n",
    "            break\n",
    "    for amp in np.linspace(0, -0.3, 31):\n",
    "        if expt(amp):\n",
    "            break\n",
    "    with open(f'./data/{ch}.txt', 'w') as f:\n",
    "        writer = csv.writer(f)\n",
    "        writer.writerows(results)\n",
    "    return np.array(results)\n",
    "\n",
    "try:\n",
    "    scope.close()\n",
    "except NameError:\n",
    "    pass\n",
    "rm = ResourceManager()\n",
    "scope = rm.open_resource(rm.list_resources()[0])\n",
    "scope.query('*IDN?')"
   ]
  },
  {
   "cell_type": "code",
   "execution_count": null,
   "metadata": {},
   "outputs": [],
   "source": [
    "scope.close()"
   ]
  },
  {
   "cell_type": "code",
   "execution_count": null,
   "metadata": {},
   "outputs": [],
   "source": [
    "console = Experiment(init_gpa=True)\n",
    "console.add_flodict({\n",
    "    f'ocra40_v{ch}': (np.array([0, 100]), np.array([0, 0])) for ch in range(40)\n",
    "})\n",
    "console.run()\n",
    "console.__del__()"
   ]
  },
  {
   "cell_type": "code",
   "execution_count": null,
   "metadata": {},
   "outputs": [],
   "source": [
    "write(0, 0.1)"
   ]
  },
  {
   "cell_type": "code",
   "execution_count": null,
   "metadata": {},
   "outputs": [],
   "source": [
    "sweep(0)"
   ]
  }
 ],
 "metadata": {
  "kernelspec": {
   "display_name": ".venv",
   "language": "python",
   "name": "python3"
  },
  "language_info": {
   "codemirror_mode": {
    "name": "ipython",
    "version": 3
   },
   "file_extension": ".py",
   "mimetype": "text/x-python",
   "name": "python",
   "nbconvert_exporter": "python",
   "pygments_lexer": "ipython3",
   "version": "3.12.9"
  }
 },
 "nbformat": 4,
 "nbformat_minor": 2
}
